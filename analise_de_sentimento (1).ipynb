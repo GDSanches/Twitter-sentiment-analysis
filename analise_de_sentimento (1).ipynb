{
  "nbformat": 4,
  "nbformat_minor": 0,
  "metadata": {
    "colab": {
      "provenance": []
    },
    "kernelspec": {
      "name": "python3",
      "display_name": "Python 3"
    },
    "language_info": {
      "name": "python"
    }
  },
  "cells": [
    {
      "cell_type": "markdown",
      "source": [
        "Realizando importações"
      ],
      "metadata": {
        "id": "R4mK5sBDLJ_d"
      }
    },
    {
      "cell_type": "markdown",
      "source": [
        "**ALUNOS:** **Felipe Versiane, Guilherme Sanches, Jônathas David**"
      ],
      "metadata": {
        "id": "3jxzUz0xI2jC"
      }
    },
    {
      "cell_type": "code",
      "source": [
        "import pandas as pd\n",
        "from sklearn.feature_extraction.text import TfidfVectorizer\n",
        "from sklearn.neighbors import KNeighborsClassifier\n",
        "from sklearn.model_selection import train_test_split\n",
        "import seaborn as sns\n",
        "import matplotlib.pyplot as plt\n",
        "from sklearn.metrics import accuracy_score, precision_score, recall_score, f1_score, make_scorer, classification_report, confusion_matrix\n",
        "from sklearn.tree import DecisionTreeClassifier\n",
        "import numpy as np\n",
        "from sklearn.ensemble import RandomForestClassifier\n",
        "from sklearn.model_selection import GridSearchCV, StratifiedKFold\n",
        "from sklearn.model_selection import cross_val_score\n"
      ],
      "metadata": {
        "id": "TQQH9z67-veE"
      },
      "execution_count": null,
      "outputs": []
    },
    {
      "cell_type": "markdown",
      "source": [
        "\n",
        "Extraindo dados"
      ],
      "metadata": {
        "id": "H8QT5heVT4KS"
      }
    },
    {
      "cell_type": "code",
      "source": [
        "data=pd.read_csv(\"https://scanuto.com/IFG.csv\", delimiter=\", \\\"\",\n",
        "             names=['labels','texto'], skiprows=1, engine='python')\n",
        "data.dropna(inplace=True)\n",
        "\n",
        "data_texto= data['texto']\n",
        "data_labels=data['labels']\n",
        "\n"
      ],
      "metadata": {
        "id": "7GFDIYhaZQaM"
      },
      "execution_count": null,
      "outputs": []
    },
    {
      "cell_type": "markdown",
      "source": [
        "Processando dados"
      ],
      "metadata": {
        "id": "OPy2QzkJLWiG"
      }
    },
    {
      "cell_type": "code",
      "source": [
        "# Vetorização TF-IDF\n",
        "vectorizer = TfidfVectorizer(\n",
        "    lowercase=True,          # Converte tudo para minúsculas\n",
        "    max_df=0.95,             # Remove palavras muito frequentes\n",
        "    min_df=2,                # Remove palavras muito raras\n",
        "    token_pattern=r'\\b[a-zA-Zá-úÁ-Ú]{3,}\\b',  # Apenas palavras com pelo menos 3 letras\n",
        "    decode_error='ignore'\n",
        ")\n",
        "X = vectorizer.fit_transform(data_texto.tolist())\n",
        "\n",
        "# 4️⃣ Divisão em treino e teste para todos\n",
        "X_train, X_test, y_train, y_test = train_test_split(X, data_labels, test_size=0.2, random_state=42)"
      ],
      "metadata": {
        "id": "J2giBW0FdzS4"
      },
      "execution_count": null,
      "outputs": []
    },
    {
      "cell_type": "markdown",
      "source": [
        "KNN"
      ],
      "metadata": {
        "id": "tTMnlliq-Jc5"
      }
    },
    {
      "cell_type": "code",
      "source": [
        "# Definição do modelo KNN\n",
        "knn = KNeighborsClassifier()\n",
        "\n",
        "# Definição dos hiperparâmetros para busca\n",
        "param_grid = {\n",
        "    'n_neighbors': [3, 5, 7, 9],\n",
        "    'metric': ['euclidean', 'manhattan', 'minkowski'],\n",
        "    'weights': ['uniform', 'distance']\n",
        "}\n",
        "\n",
        "# Busca dos melhores hiperparâmetros com GridSearchCV\n",
        "grid_search_knn = GridSearchCV(knn, param_grid, cv=5, scoring='accuracy', n_jobs=-1)\n",
        "grid_search_knn.fit(X_train, y_train)\n",
        "\n",
        "# Melhor modelo encontrado\n",
        "best_knn = grid_search_knn.best_estimator_\n",
        "\n",
        "# Exibir os melhores hiperparâmetros\n",
        "print(\"\\n--- Melhores Hiperparâmetros Encontrados ---\")\n",
        "print(grid_search_knn.best_params_)\n",
        "\n",
        "# Validação cruzada\n",
        "cv = StratifiedKFold(n_splits=5, shuffle=True, random_state=42)\n",
        "\n",
        "acc_scores = []\n",
        "precision_scores = []\n",
        "recall_scores = []\n",
        "f1_scores = []\n",
        "\n",
        "for train_idx, val_idx in cv.split(X_train, y_train):\n",
        "    X_train_fold, X_val_fold = X_train[train_idx], X_train[val_idx]\n",
        "    y_train_fold, y_val_fold = y_train.iloc[train_idx], y_train.iloc[val_idx]  # Se for pandas Series\n",
        "\n",
        "    # Treinamento do modelo no fold atual\n",
        "    best_knn.fit(X_train_fold, y_train_fold)\n",
        "\n",
        "    # Predição no conjunto de validação\n",
        "    y_pred = best_knn.predict(X_val_fold)\n",
        "\n",
        "    # Cálculo das métricas\n",
        "    acc = accuracy_score(y_val_fold, y_pred)\n",
        "    precision = precision_score(y_val_fold, y_pred, average='macro', zero_division=0)\n",
        "    recall = recall_score(y_val_fold, y_pred, average='macro', zero_division=0)\n",
        "    f1 = f1_score(y_val_fold, y_pred, average='macro', zero_division=0)\n",
        "\n",
        "    # Armazena os valores das métricas\n",
        "    acc_scores.append(acc)\n",
        "    precision_scores.append(precision)\n",
        "    recall_scores.append(recall)\n",
        "    f1_scores.append(f1)\n",
        "\n",
        "    print(f'Fold -> Acurácia: {acc:.4f} | Precisão: {precision:.4f} | Recall: {recall:.4f} | F1-score: {f1:.4f}')\n",
        "\n",
        "# Estatísticas das métricas\n",
        "print(\"\\n--- Estatísticas da Validação Cruzada ---\")\n",
        "print(f'Média da Acurácia: {np.mean(acc_scores):.4f} | Desvio Padrão: {np.std(acc_scores):.4f}')\n",
        "print(f'Média da Precisão: {np.mean(precision_scores):.4f} | Desvio Padrão: {np.std(precision_scores):.4f}')\n",
        "print(f'Média do Recall: {np.mean(recall_scores):.4f} | Desvio Padrão: {np.std(recall_scores):.4f}')\n",
        "print(f'Média do F1-score: {np.mean(f1_scores):.4f} | Desvio Padrão: {np.std(f1_scores):.4f}')\n",
        "\n",
        "# Avaliação final no conjunto de teste\n",
        "y_test_pred = best_knn.predict(X_test)\n",
        "\n",
        "final_accuracy_knn = accuracy_score(y_test, y_test_pred)\n",
        "final_precision_knn = precision_score(y_test, y_test_pred, average='macro', zero_division=0)\n",
        "final_recall_knn = recall_score(y_test, y_test_pred, average='macro', zero_division=0)\n",
        "final_f1_knn = f1_score(y_test, y_test_pred, average='macro', zero_division=0)\n",
        "\n",
        "print(\"\\n--- Avaliação Final no Teste ---\")\n",
        "print(f'Acurácia: {final_accuracy_knn:.4f}')\n",
        "print(f'Precisão: {final_precision_knn:.4f}')\n",
        "print(f'Recall: {final_recall_knn:.4f}')\n",
        "print(f'F1-score: {final_f1_knn:.4f}')\n",
        "\n",
        "# Matriz de confusão\n",
        "print(\"\\n--- Matriz de confusão  ---\")\n",
        "\n",
        "conf_matrix = confusion_matrix(y_test, y_test_pred)\n",
        "\n",
        "plt.figure(figsize=(6, 5))\n",
        "sns.heatmap(conf_matrix, annot=True, fmt='d', cmap='Blues', xticklabels=np.unique(y_test), yticklabels=np.unique(y_test))\n",
        "plt.xlabel('Predito')\n",
        "plt.ylabel('Real')\n",
        "plt.title('Matriz de Confusão')\n",
        "plt.show()"
      ],
      "metadata": {
        "id": "bJuLJ1Qd_Zzz",
        "colab": {
          "base_uri": "https://localhost:8080/",
          "height": 880
        },
        "outputId": "b75fb9a3-418c-4b80-d4c8-1c90ef7803ec"
      },
      "execution_count": null,
      "outputs": [
        {
          "output_type": "stream",
          "name": "stdout",
          "text": [
            "\n",
            "--- Melhores Hiperparâmetros Encontrados ---\n",
            "{'metric': 'euclidean', 'n_neighbors': 9, 'weights': 'distance'}\n",
            "Fold -> Acurácia: 0.5591 | Precisão: 0.5841 | Recall: 0.5163 | F1-score: 0.5298\n",
            "Fold -> Acurácia: 0.6262 | Precisão: 0.6428 | Recall: 0.5579 | F1-score: 0.5623\n",
            "Fold -> Acurácia: 0.5815 | Precisão: 0.6323 | Recall: 0.5365 | F1-score: 0.5511\n",
            "Fold -> Acurácia: 0.5751 | Precisão: 0.6462 | Recall: 0.5111 | F1-score: 0.5168\n",
            "Fold -> Acurácia: 0.5897 | Precisão: 0.5821 | Recall: 0.5428 | F1-score: 0.5500\n",
            "\n",
            "--- Estatísticas da Validação Cruzada ---\n",
            "Média da Acurácia: 0.5863 | Desvio Padrão: 0.0223\n",
            "Média da Precisão: 0.6175 | Desvio Padrão: 0.0285\n",
            "Média do Recall: 0.5329 | Desvio Padrão: 0.0172\n",
            "Média do F1-score: 0.5420 | Desvio Padrão: 0.0164\n",
            "\n",
            "--- Avaliação Final no Teste ---\n",
            "Acurácia: 0.5765\n",
            "Precisão: 0.5680\n",
            "Recall: 0.5209\n",
            "F1-score: 0.5315\n",
            "\n",
            "--- Matriz de confusão  ---\n"
          ]
        },
        {
          "output_type": "display_data",
          "data": {
            "text/plain": [
              "<Figure size 600x500 with 2 Axes>"
            ],
            "image/png": "[encoded data removed]"
          },
          "metadata": {}
        }
      ]
    },
    {
      "cell_type": "markdown",
      "source": [
        "Árvore de Decisão"
      ],
      "metadata": {
        "id": "rjwPXNyS9_Z5"
      }
    },
    {
      "cell_type": "code",
      "source": [
        "# Definição dos hiperparâmetros para busca\n",
        "param_grid_dt = {\n",
        "    'criterion': ['gini', 'entropy'],  # Critério para dividir os nós\n",
        "    'max_depth': [None, 10, 20, 30],   # Profundidade máxima da árvore\n",
        "    'min_samples_split': [2, 5, 10],   # Número mínimo de amostras para dividir um nó\n",
        "}\n",
        "\n",
        "# Criando o modelo Árvore de Decisão\n",
        "dt = DecisionTreeClassifier(random_state=42)\n",
        "\n",
        "# Aplicando o GridSearchCV com validação cruzada de 5 dobras\n",
        "grid_search_dt = GridSearchCV(estimator=dt, param_grid=param_grid_dt, cv=5, scoring='accuracy', n_jobs=-1)\n",
        "grid_search_dt.fit(X_train, y_train)\n",
        "\n",
        "# Melhor modelo encontrado\n",
        "best_dt = grid_search_dt.best_estimator_\n",
        "\n",
        "# Exibir os melhores hiperparâmetros\n",
        "print(\"\\n--- Melhores Hiperparâmetros Encontrados para Árvore de Decisão ---\")\n",
        "print(grid_search_dt.best_params_)\n",
        "\n",
        "# Validação cruzada\n",
        "cv = StratifiedKFold(n_splits=5, shuffle=True, random_state=42)\n",
        "\n",
        "acc_scores = []\n",
        "precision_scores = []\n",
        "recall_scores = []\n",
        "f1_scores = []\n",
        "\n",
        "for train_idx, val_idx in cv.split(X_train, y_train):\n",
        "    X_train_fold, X_val_fold = X_train[train_idx], X_train[val_idx]\n",
        "    y_train_fold, y_val_fold = y_train.iloc[train_idx], y_train.iloc[val_idx]  # Se for pandas Series\n",
        "\n",
        "    # Treinamento do modelo no fold atual\n",
        "    best_dt.fit(X_train_fold, y_train_fold)\n",
        "\n",
        "    # Predição no conjunto de validação\n",
        "    y_pred = best_dt.predict(X_val_fold)\n",
        "\n",
        "    # Cálculo das métricas\n",
        "    acc = accuracy_score(y_val_fold, y_pred)\n",
        "    precision = precision_score(y_val_fold, y_pred, average='macro', zero_division=0)\n",
        "    recall = recall_score(y_val_fold, y_pred, average='macro', zero_division=0)\n",
        "    f1 = f1_score(y_val_fold, y_pred, average='macro', zero_division=0)\n",
        "\n",
        "    # Armazena os valores das métricas\n",
        "    acc_scores.append(acc)\n",
        "    precision_scores.append(precision)\n",
        "    recall_scores.append(recall)\n",
        "    f1_scores.append(f1)\n",
        "\n",
        "    print(f'Fold -> Acurácia: {acc:.4f} | Precisão: {precision:.4f} | Recall: {recall:.4f} | F1-score: {f1:.4f}')\n",
        "\n",
        "# Estatísticas das métricas\n",
        "print(\"\\n--- Estatísticas da Validação Cruzada ---\")\n",
        "print(f'Média da Acurácia: {np.mean(acc_scores):.4f} | Desvio Padrão: {np.std(acc_scores):.4f}')\n",
        "print(f'Média da Precisão: {np.mean(precision_scores):.4f} | Desvio Padrão: {np.std(precision_scores):.4f}')\n",
        "print(f'Média do Recall: {np.mean(recall_scores):.4f} | Desvio Padrão: {np.std(recall_scores):.4f}')\n",
        "print(f'Média do F1-score: {np.mean(f1_scores):.4f} | Desvio Padrão: {np.std(f1_scores):.4f}')\n",
        "\n",
        "# Avaliação final no conjunto de teste\n",
        "y_test_pred = best_dt.predict(X_test)\n",
        "\n",
        "final_accuracy_dt = accuracy_score(y_test, y_test_pred)\n",
        "final_precision_dt = precision_score(y_test, y_test_pred, average='macro', zero_division=0)\n",
        "final_recall_dt = recall_score(y_test, y_test_pred, average='macro', zero_division=0)\n",
        "final_f1_dt = f1_score(y_test, y_test_pred, average='macro', zero_division=0)\n",
        "\n",
        "print(\"\\n--- Avaliação Final no Teste ---\")\n",
        "print(f'Acurácia: {final_accuracy_dt:.4f}')\n",
        "print(f'Precisão: {final_precision_dt:.4f}')\n",
        "print(f'Recall: {final_recall_dt:.4f}')\n",
        "print(f'F1-score: {final_f1_dt:.4f}')\n",
        "\n",
        "# Matriz de confusão\n",
        "conf_matrix = confusion_matrix(y_test, y_test_pred)\n",
        "\n",
        "plt.figure(figsize=(6, 5))\n",
        "sns.heatmap(conf_matrix, annot=True, fmt='d', cmap='Blues', xticklabels=np.unique(y_test), yticklabels=np.unique(y_test))\n",
        "plt.xlabel('Predito')\n",
        "plt.ylabel('Real')\n",
        "plt.title('Matriz de Confusão - Árvore de Decisão')\n",
        "plt.show()"
      ],
      "metadata": {
        "id": "PviwCG-NCYDI",
        "colab": {
          "base_uri": "https://localhost:8080/",
          "height": 844
        },
        "outputId": "3c8d2904-3cde-4cab-eb2e-9bdc6bf7ca1d"
      },
      "execution_count": null,
      "outputs": [
        {
          "output_type": "stream",
          "name": "stdout",
          "text": [
            "\n",
            "--- Melhores Hiperparâmetros Encontrados para Árvore de Decisão ---\n",
            "{'criterion': 'gini', 'max_depth': None, 'min_samples_split': 2}\n",
            "Fold -> Acurácia: 0.5399 | Precisão: 0.5337 | Recall: 0.5256 | F1-score: 0.5283\n",
            "Fold -> Acurácia: 0.5751 | Precisão: 0.5583 | Recall: 0.5535 | F1-score: 0.5557\n",
            "Fold -> Acurácia: 0.5080 | Precisão: 0.4915 | Recall: 0.4770 | F1-score: 0.4817\n",
            "Fold -> Acurácia: 0.5591 | Precisão: 0.5398 | Recall: 0.5052 | F1-score: 0.5086\n",
            "Fold -> Acurácia: 0.5096 | Precisão: 0.5009 | Recall: 0.4825 | F1-score: 0.4885\n",
            "\n",
            "--- Estatísticas da Validação Cruzada ---\n",
            "Média da Acurácia: 0.5383 | Desvio Padrão: 0.0266\n",
            "Média da Precisão: 0.5248 | Desvio Padrão: 0.0249\n",
            "Média do Recall: 0.5088 | Desvio Padrão: 0.0283\n",
            "Média do F1-score: 0.5125 | Desvio Padrão: 0.0270\n",
            "\n",
            "--- Avaliação Final no Teste ---\n",
            "Acurácia: 0.4898\n",
            "Precisão: 0.4719\n",
            "Recall: 0.4592\n",
            "F1-score: 0.4642\n"
          ]
        },
        {
          "output_type": "display_data",
          "data": {
            "text/plain": [
              "<Figure size 600x500 with 2 Axes>"
            ],
            "image/png": "[encoded data removed]"
          },
          "metadata": {}
        }
      ]
    },
    {
      "cell_type": "markdown",
      "source": [
        "Random Forest"
      ],
      "metadata": {
        "id": "Ja_bBnvO960y"
      }
    },
    {
      "cell_type": "code",
      "source": [
        "# Definição dos hiperparâmetros para busca\n",
        "param_grid_rf = {\n",
        "    'n_estimators': [100, 200, 300],  # Número de árvores\n",
        "    'max_depth': [10, 20, 30, None],  # Profundidade máxima\n",
        "    'min_samples_split': [2, 5],      # Mínimo de amostras para dividir um nó\n",
        "}\n",
        "\n",
        "# Criando o modelo Random Forest\n",
        "rf = RandomForestClassifier(random_state=42, n_jobs=-1)\n",
        "\n",
        "# Aplicando o GridSearchCV com validação cruzada de 5 dobras\n",
        "grid_search_rf = GridSearchCV(estimator=rf, param_grid=param_grid_rf, cv=5, scoring='accuracy', n_jobs=-1)\n",
        "grid_search_rf.fit(X_train, y_train)\n",
        "\n",
        "# Melhor modelo encontrado\n",
        "best_rf = grid_search_rf.best_estimator_\n",
        "\n",
        "# Exibir os melhores hiperparâmetros\n",
        "print(\"\\n--- Melhores Hiperparâmetros Encontrados para Random Forest ---\")\n",
        "print(grid_search_rf.best_params_)\n",
        "\n",
        "# Validação cruzada\n",
        "cv = StratifiedKFold(n_splits=5, shuffle=True, random_state=42)\n",
        "\n",
        "acc_scores = []\n",
        "precision_scores = []\n",
        "recall_scores = []\n",
        "f1_scores = []\n",
        "\n",
        "for train_idx, val_idx in cv.split(X_train, y_train):\n",
        "    X_train_fold, X_val_fold = X_train[train_idx], X_train[val_idx]\n",
        "    y_train_fold, y_val_fold = y_train.iloc[train_idx], y_train.iloc[val_idx]  # Se for pandas Series\n",
        "\n",
        "    # Treinamento do modelo no fold atual\n",
        "    best_rf.fit(X_train_fold, y_train_fold)\n",
        "\n",
        "    # Predição no conjunto de validação\n",
        "    y_pred = best_rf.predict(X_val_fold)\n",
        "\n",
        "    # Cálculo das métricas\n",
        "    acc = accuracy_score(y_val_fold, y_pred)\n",
        "    precision = precision_score(y_val_fold, y_pred, average='macro', zero_division=0)\n",
        "    recall = recall_score(y_val_fold, y_pred, average='macro', zero_division=0)\n",
        "    f1 = f1_score(y_val_fold, y_pred, average='macro', zero_division=0)\n",
        "\n",
        "    # Armazena os valores das métricas\n",
        "    acc_scores.append(acc)\n",
        "    precision_scores.append(precision)\n",
        "    recall_scores.append(recall)\n",
        "    f1_scores.append(f1)\n",
        "\n",
        "    print(f'Fold -> Acurácia: {acc:.4f} | Precisão: {precision:.4f} | Recall: {recall:.4f} | F1-score: {f1:.4f}')\n",
        "\n",
        "# Estatísticas das métricas\n",
        "print(\"\\n--- Estatísticas da Validação Cruzada ---\")\n",
        "print(f'Média da Acurácia: {np.mean(acc_scores):.4f} | Desvio Padrão: {np.std(acc_scores):.4f}')\n",
        "print(f'Média da Precisão: {np.mean(precision_scores):.4f} | Desvio Padrão: {np.std(precision_scores):.4f}')\n",
        "print(f'Média do Recall: {np.mean(recall_scores):.4f} | Desvio Padrão: {np.std(recall_scores):.4f}')\n",
        "print(f'Média do F1-score: {np.mean(f1_scores):.4f} | Desvio Padrão: {np.std(f1_scores):.4f}')\n",
        "\n",
        "# Avaliação final no conjunto de teste\n",
        "y_test_pred = best_rf.predict(X_test)\n",
        "\n",
        "final_accuracy_rf = accuracy_score(y_test, y_test_pred)\n",
        "final_precision_rf = precision_score(y_test, y_test_pred, average='macro', zero_division=0)\n",
        "final_recall_rf = recall_score(y_test, y_test_pred, average='macro', zero_division=0)\n",
        "final_f1_rf = f1_score(y_test, y_test_pred, average='macro', zero_division=0)\n",
        "\n",
        "print(\"\\n--- Avaliação Final no Teste ---\")\n",
        "print(f'Acurácia: {final_accuracy_rf:.4f}')\n",
        "print(f'Precisão: {final_precision_rf:.4f}')\n",
        "print(f'Recall: {final_recall_rf:.4f}')\n",
        "print(f'F1-score: {final_f1_rf:.4f}')\n",
        "\n",
        "# Matriz de confusão\n",
        "conf_matrix = confusion_matrix(y_test, y_test_pred)\n",
        "\n",
        "plt.figure(figsize=(6, 5))\n",
        "sns.heatmap(conf_matrix, annot=True, fmt='d', cmap='Blues', xticklabels=np.unique(y_test), yticklabels=np.unique(y_test))\n",
        "plt.xlabel('Predito')\n",
        "plt.ylabel('Real')\n",
        "plt.title('Matriz de Confusão - Random Forest')\n",
        "plt.show()"
      ],
      "metadata": {
        "id": "WEq8fpJovf2V",
        "colab": {
          "base_uri": "https://localhost:8080/",
          "height": 844
        },
        "outputId": "71605bc6-7592-4f43-d2f7-a65ba7ca542b"
      },
      "execution_count": null,
      "outputs": [
        {
          "output_type": "stream",
          "name": "stdout",
          "text": [
            "\n",
            "--- Melhores Hiperparâmetros Encontrados para Random Forest ---\n",
            "{'max_depth': None, 'min_samples_split': 5, 'n_estimators': 200}\n",
            "Fold -> Acurácia: 0.6070 | Precisão: 0.6685 | Recall: 0.5539 | F1-score: 0.5681\n",
            "Fold -> Acurácia: 0.6294 | Precisão: 0.6925 | Recall: 0.5680 | F1-score: 0.5818\n",
            "Fold -> Acurácia: 0.5527 | Precisão: 0.5983 | Recall: 0.4992 | F1-score: 0.5095\n",
            "Fold -> Acurácia: 0.6102 | Precisão: 0.6732 | Recall: 0.5440 | F1-score: 0.5510\n",
            "Fold -> Acurácia: 0.6250 | Precisão: 0.6361 | Recall: 0.5743 | F1-score: 0.5859\n",
            "\n",
            "--- Estatísticas da Validação Cruzada ---\n",
            "Média da Acurácia: 0.6049 | Desvio Padrão: 0.0274\n",
            "Média da Precisão: 0.6537 | Desvio Padrão: 0.0331\n",
            "Média do Recall: 0.5479 | Desvio Padrão: 0.0265\n",
            "Média do F1-score: 0.5593 | Desvio Padrão: 0.0277\n",
            "\n",
            "--- Avaliação Final no Teste ---\n",
            "Acurácia: 0.5918\n",
            "Precisão: 0.6186\n",
            "Recall: 0.5190\n",
            "F1-score: 0.5333\n"
          ]
        },
        {
          "output_type": "display_data",
          "data": {
            "text/plain": [
              "<Figure size 600x500 with 2 Axes>"
            ],
            "image/png": "[encoded data removed]"
          },
          "metadata": {}
        }
      ]
    },
    {
      "cell_type": "code",
      "source": [
        "# Criando um dicionário com os dados\n",
        "data = {\n",
        "    \"\": [\"kNN\", \"Árvore de decisão\", \"Random Forests\"],\n",
        "    \"precisão\": [\" {:.2f}\".format(final_precision_knn, 0.02),\n",
        "                 \" {:.2f}\".format(final_precision_dt, 0.03),\n",
        "                 \" {:.2f}\".format(final_precision_rf, 0.01)],\n",
        "    \"revocação\": [\"{:.2f}\".format(final_recall_knn, 0.02),\n",
        "                  \"{:.2f}\".format(final_recall_dt, 0.03),\n",
        "                  \"{:.2f}\".format(final_recall_rf, 0.01)],\n",
        "    \"Acurácia\": [\"{:.2f}\".format(final_accuracy_knn),\n",
        "                 \"{:.2f}\".format(final_accuracy_dt),\n",
        "                 \"{:.2f}\".format(final_accuracy_rf)],\n",
        "    \"MacroF1\": [\"{:.2f}\".format(final_f1_knn),\n",
        "                \"{:.2f}\".format(final_f1_dt),\n",
        "                \"{:.2f}\".format(final_f1_rf)]\n",
        "}\n",
        "\n",
        "# Criando o DataFrame\n",
        "df = pd.DataFrame(data)\n",
        "\n",
        "# Exibindo a tabela\n",
        "print(df)"
      ],
      "metadata": {
        "colab": {
          "base_uri": "https://localhost:8080/"
        },
        "id": "2XOkC1p1E8MF",
        "outputId": "7b10f83b-380c-4447-8b13-e70b467ed9c0"
      },
      "execution_count": null,
      "outputs": [
        {
          "output_type": "stream",
          "name": "stdout",
          "text": [
            "                     precisão revocação Acurácia MacroF1\n",
            "0                kNN     0.57      0.52     0.58    0.53\n",
            "1  Árvore de decisão     0.47      0.46     0.49    0.46\n",
            "2     Random Forests     0.62      0.52     0.59    0.53\n"
          ]
        }
      ]
    },
    {
      "cell_type": "code",
      "source": [],
      "metadata": {
        "id": "wVWQMwvRIQNz"
      },
      "execution_count": null,
      "outputs": []
    },
    {
      "cell_type": "markdown",
      "source": [
        "#RESPOSTAS"
      ],
      "metadata": {
        "id": "VRqglkbZILdm"
      }
    },
    {
      "cell_type": "markdown",
      "source": [
        "*Acurácia*: Mede a proporção total de previsões corretas. O Random Forests obteve a melhor acurácia (0.59), seguido pelo kNN (0.58) e pela Árvore de Decisão (0.49). O bom desempenho do Random Forests ocorre pois acaba combinando múltiplas árvores para reduzir o erro e melhorar a generalização.\n",
        "\n",
        "*Precisão*: Mede a proporção de verdadeiros positivos entre as previsões positivas. O Random Forests teve a maior precisão (0.62), o que indica que ele gera menos falsos positivos. O kNN ficou em segundo (0.57), e a Árvore de Decisão teve a menor precisão (0.47), indicando que pode estar classificando erroneamente muitas instâncias como positivas.\n",
        "\n",
        "*Revocação* (Recall): Mede a proporção de instâncias positivas corretamente identificadas. O Random Forests e o kNN obtiveram valores iguais (0.52), o que significa que ambos capturam aproximadamente a mesma quantidade de exemplos positivos corretamente. Já a Árvore de Decisão teve um desempenho inferior (0.46), indicando que deixou escapar mais instâncias da classe positiva.\n",
        "\n",
        "*Macro-F1* Score: Equilibra precisão e recall. O Random Forests e o kNN tiveram valores iguais (0.53), demonstrando um desempenho equilibrado. A Árvore de Decisão teve o pior resultado (0.46), mostrando que não consegue balancear bem precisão e recall.\n",
        "\n",
        "\n",
        "\n",
        "Explicação do Melhor Desempenho do Random Forests\n",
        "**negrito**\n",
        "O Random Forests se destacou porque:\n",
        "\n",
        "  Evita Overfitting: Diferente da Árvore de Decisão, ele utiliza múltiplas árvores para evitar que o modelo memorize os dados de treino, melhorando a generalização.\n",
        "  Maior Robustez: Ele é menos sensível a outliers e ruídos nos dados, pois combina previsões de várias árvores.\n",
        "  Equilíbrio Entre Precisão e Recall: Consegue capturar corretamente a maioria dos exemplos positivos sem gerar um excesso de falsos positivos.\n",
        "\n",
        "O kNN teve um desempenho competitivo, mas pode ser afetado pela escolha do número de vizinhos e pela escala dos dados. Já a Árvore de Decisão teve o pior desempenho, pois tende a se ajustar excessivamente aos dados de treino (overfitting) ou ser muito simples se não estiver bem configurada.\n",
        "\n",
        "Por fim, Random Forests é a melhor escolha para essa tarefa, pois apresenta o melhor desempenho em todas as métricas. O kNN também é uma opção viável, mas a Árvore de Decisão teve um desempenho inferior e pode não ser ideal para esse problema."
      ],
      "metadata": {
        "id": "KLy_NhkmHqE-"
      }
    },
    {
      "cell_type": "code",
      "source": [],
      "metadata": {
        "id": "HAd2TrxbUi_s"
      },
      "execution_count": null,
      "outputs": []
    }
  ]
}